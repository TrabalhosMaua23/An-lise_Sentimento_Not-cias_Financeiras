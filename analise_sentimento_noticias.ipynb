{
 "cells": [
  {
   "cell_type": "markdown",
   "source": [
    "# Análise de Sentimento de Notícias Financeiras\n",
    "\n",
    "Para treinar o modelo, utilizou-se o seguinte conjunto de dados: https://www.kaggle.com/datasets/ankurzing/sentiment-analysis-for-financial-news\n"
   ],
   "metadata": {
    "collapsed": false
   }
  },
  {
   "cell_type": "code",
   "execution_count": 9,
   "metadata": {
    "collapsed": true
   },
   "outputs": [
    {
     "data": {
      "text/plain": "     sentiment                                               text\n0      neutral  According to Gran , the company has no plans t...\n1      neutral  Technopolis plans to develop in stages an area...\n2     negative  The international electronic industry company ...\n3     positive  With the new production plant the company woul...\n4     positive  According to the company 's updated strategy f...\n...        ...                                                ...\n4841  negative  LONDON MarketWatch -- Share prices ended lower...\n4842   neutral  Rinkuskiai 's beer sales fell by 6.5 per cent ...\n4843  negative  Operating profit fell to EUR 35.4 mn from EUR ...\n4844  negative  Net sales of the Paper segment decreased to EU...\n4845  negative  Sales in Finland decreased by 10.5 % in Januar...\n\n[4846 rows x 2 columns]",
      "text/html": "<div>\n<style scoped>\n    .dataframe tbody tr th:only-of-type {\n        vertical-align: middle;\n    }\n\n    .dataframe tbody tr th {\n        vertical-align: top;\n    }\n\n    .dataframe thead th {\n        text-align: right;\n    }\n</style>\n<table border=\"1\" class=\"dataframe\">\n  <thead>\n    <tr style=\"text-align: right;\">\n      <th></th>\n      <th>sentiment</th>\n      <th>text</th>\n    </tr>\n  </thead>\n  <tbody>\n    <tr>\n      <th>0</th>\n      <td>neutral</td>\n      <td>According to Gran , the company has no plans t...</td>\n    </tr>\n    <tr>\n      <th>1</th>\n      <td>neutral</td>\n      <td>Technopolis plans to develop in stages an area...</td>\n    </tr>\n    <tr>\n      <th>2</th>\n      <td>negative</td>\n      <td>The international electronic industry company ...</td>\n    </tr>\n    <tr>\n      <th>3</th>\n      <td>positive</td>\n      <td>With the new production plant the company woul...</td>\n    </tr>\n    <tr>\n      <th>4</th>\n      <td>positive</td>\n      <td>According to the company 's updated strategy f...</td>\n    </tr>\n    <tr>\n      <th>...</th>\n      <td>...</td>\n      <td>...</td>\n    </tr>\n    <tr>\n      <th>4841</th>\n      <td>negative</td>\n      <td>LONDON MarketWatch -- Share prices ended lower...</td>\n    </tr>\n    <tr>\n      <th>4842</th>\n      <td>neutral</td>\n      <td>Rinkuskiai 's beer sales fell by 6.5 per cent ...</td>\n    </tr>\n    <tr>\n      <th>4843</th>\n      <td>negative</td>\n      <td>Operating profit fell to EUR 35.4 mn from EUR ...</td>\n    </tr>\n    <tr>\n      <th>4844</th>\n      <td>negative</td>\n      <td>Net sales of the Paper segment decreased to EU...</td>\n    </tr>\n    <tr>\n      <th>4845</th>\n      <td>negative</td>\n      <td>Sales in Finland decreased by 10.5 % in Januar...</td>\n    </tr>\n  </tbody>\n</table>\n<p>4846 rows × 2 columns</p>\n</div>"
     },
     "execution_count": 9,
     "metadata": {},
     "output_type": "execute_result"
    }
   ],
   "source": [
    "import pandas as pd\n",
    "\n",
    "df = pd.read_csv('data/all-data.csv', names=[\"sentiment\", \"text\"], encoding=\"utf-8\", encoding_errors=\"replace\")\n",
    "\n",
    "df"
   ]
  },
  {
   "cell_type": "code",
   "execution_count": null,
   "outputs": [],
   "source": [],
   "metadata": {
    "collapsed": false
   }
  }
 ],
 "metadata": {
  "kernelspec": {
   "display_name": "Python 3",
   "language": "python",
   "name": "python3"
  },
  "language_info": {
   "codemirror_mode": {
    "name": "ipython",
    "version": 2
   },
   "file_extension": ".py",
   "mimetype": "text/x-python",
   "name": "python",
   "nbconvert_exporter": "python",
   "pygments_lexer": "ipython2",
   "version": "2.7.6"
  }
 },
 "nbformat": 4,
 "nbformat_minor": 0
}
